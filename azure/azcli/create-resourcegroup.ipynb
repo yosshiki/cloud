{
 "cells": [
  {
   "cell_type": "code",
   "execution_count": 1,
   "id": "6bb3a9c7-290f-4d66-87de-f784a9d6c866",
   "metadata": {},
   "outputs": [
    {
     "name": "stdout",
     "output_type": "stream",
     "text": [
      "azure-cli                         2.39.0 *\n",
      "\n",
      "core                              2.39.0 *\n",
      "telemetry                          1.0.6 *\n",
      "\n",
      "Dependencies:\n",
      "msal                            1.18.0b1\n",
      "azure-mgmt-resource             21.1.0b1\n",
      "\n",
      "Python location '/opt/az/bin/python3'\n",
      "Extensions directory '/root/.azure/cliextensions'\n",
      "\n",
      "Python (Linux) 3.10.5 (main, Jul 29 2022, 03:27:33) [GCC 11.2.0]\n",
      "\n",
      "Legal docs and information: aka.ms/AzureCliLegal\n",
      "\n",
      "\n",
      "\u001b[93mYou have 3 updates available. Consider updating your CLI installation with 'az upgrade'\u001b[0m\n",
      "\n",
      "\u001b[0mPlease let us know how we are doing: \u001b[96mhttps://aka.ms/azureclihats\u001b[0m\n",
      "\u001b[0mand let us know if you're interested in trying out our newest features: \u001b[96mhttps://aka.ms/CLIUXstudy\u001b[0m\n"
     ]
    }
   ],
   "source": [
    "az --version"
   ]
  },
  {
   "cell_type": "code",
   "execution_count": 2,
   "id": "54788b32-7b21-4888-9153-b201ac8d6d8a",
   "metadata": {},
   "outputs": [
    {
     "name": "stdout",
     "output_type": "stream",
     "text": [
      "{\n",
      "  \"id\": \"/subscriptions/d80553ac-6a33-4b25-a1fe-c08a05156652/resourceGroups/test1105\",\n",
      "  \"location\": \"japaneast\",\n",
      "  \"managedBy\": null,\n",
      "  \"name\": \"test1105\",\n",
      "  \"properties\": {\n",
      "    \"provisioningState\": \"Succeeded\"\n",
      "  },\n",
      "  \"tags\": null,\n",
      "  \"type\": \"Microsoft.Resources/resourceGroups\"\n",
      "}\n"
     ]
    }
   ],
   "source": [
    "az group create --name test1105 --location japaneast"
   ]
  },
  {
   "cell_type": "code",
   "execution_count": 3,
   "id": "9756ab86-4697-473f-af17-101488c4fff6",
   "metadata": {},
   "outputs": [
    {
     "name": "stdout",
     "output_type": "stream",
     "text": [
      "[\n",
      "  {\n",
      "    \"id\": \"/subscriptions/d80553ac-6a33-4b25-a1fe-c08a05156652/resourceGroups/test-fundamental\",\n",
      "    \"location\": \"eastus\",\n",
      "    \"managedBy\": null,\n",
      "    \"name\": \"test-fundamental\",\n",
      "    \"properties\": {\n",
      "      \"provisioningState\": \"Succeeded\"\n",
      "    },\n",
      "    \"tags\": null,\n",
      "    \"type\": \"Microsoft.Resources/resourceGroups\"\n",
      "  },\n",
      "  {\n",
      "    \"id\": \"/subscriptions/d80553ac-6a33-4b25-a1fe-c08a05156652/resourceGroups/azureapp-auto-alerts-a37b42-greelit1_hotmail_co_jp\",\n",
      "    \"location\": \"eastus\",\n",
      "    \"managedBy\": null,\n",
      "    \"name\": \"azureapp-auto-alerts-a37b42-greelit1_hotmail_co_jp\",\n",
      "    \"properties\": {\n",
      "      \"provisioningState\": \"Succeeded\"\n",
      "    },\n",
      "    \"tags\": null,\n",
      "    \"type\": \"Microsoft.Resources/resourceGroups\"\n",
      "  },\n",
      "  {\n",
      "    \"id\": \"/subscriptions/d80553ac-6a33-4b25-a1fe-c08a05156652/resourceGroups/rg01\",\n",
      "    \"location\": \"japaneast\",\n",
      "    \"managedBy\": null,\n",
      "    \"name\": \"rg01\",\n",
      "    \"properties\": {\n",
      "      \"provisioningState\": \"Succeeded\"\n",
      "    },\n",
      "    \"tags\": null,\n",
      "    \"type\": \"Microsoft.Resources/resourceGroups\"\n",
      "  },\n",
      "  {\n",
      "    \"id\": \"/subscriptions/d80553ac-6a33-4b25-a1fe-c08a05156652/resourceGroups/NetworkWatcherRG\",\n",
      "    \"location\": \"japaneast\",\n",
      "    \"managedBy\": null,\n",
      "    \"name\": \"NetworkWatcherRG\",\n",
      "    \"properties\": {\n",
      "      \"provisioningState\": \"Succeeded\"\n",
      "    },\n",
      "    \"tags\": null,\n",
      "    \"type\": \"Microsoft.Resources/resourceGroups\"\n",
      "  },\n",
      "  {\n",
      "    \"id\": \"/subscriptions/d80553ac-6a33-4b25-a1fe-c08a05156652/resourceGroups/DefaultResourceGroup-EJP\",\n",
      "    \"location\": \"japaneast\",\n",
      "    \"managedBy\": null,\n",
      "    \"name\": \"DefaultResourceGroup-EJP\",\n",
      "    \"properties\": {\n",
      "      \"provisioningState\": \"Succeeded\"\n",
      "    },\n",
      "    \"tags\": null,\n",
      "    \"type\": \"Microsoft.Resources/resourceGroups\"\n",
      "  },\n",
      "  {\n",
      "    \"id\": \"/subscriptions/d80553ac-6a33-4b25-a1fe-c08a05156652/resourceGroups/test1105\",\n",
      "    \"location\": \"japaneast\",\n",
      "    \"managedBy\": null,\n",
      "    \"name\": \"test1105\",\n",
      "    \"properties\": {\n",
      "      \"provisioningState\": \"Succeeded\"\n",
      "    },\n",
      "    \"tags\": null,\n",
      "    \"type\": \"Microsoft.Resources/resourceGroups\"\n",
      "  }\n",
      "]\n"
     ]
    }
   ],
   "source": [
    "az group list"
   ]
  },
  {
   "cell_type": "code",
   "execution_count": 4,
   "id": "76a4d950-53d9-4f9c-ba29-88aa27530cff",
   "metadata": {},
   "outputs": [
    {
     "name": "stdout",
     "output_type": "stream",
     "text": [
      "Name                                                Location    Status\n",
      "--------------------------------------------------  ----------  ---------\n",
      "test-fundamental                                    eastus      Succeeded\n",
      "azureapp-auto-alerts-a37b42-greelit1_hotmail_co_jp  eastus      Succeeded\n",
      "rg01                                                japaneast   Succeeded\n",
      "NetworkWatcherRG                                    japaneast   Succeeded\n",
      "DefaultResourceGroup-EJP                            japaneast   Succeeded\n",
      "test1105                                            japaneast   Succeeded\n"
     ]
    }
   ],
   "source": [
    "az group list --output table"
   ]
  }
 ],
 "metadata": {
  "kernelspec": {
   "display_name": "Bash",
   "language": "bash",
   "name": "bash"
  },
  "language_info": {
   "codemirror_mode": "shell",
   "file_extension": ".sh",
   "mimetype": "text/x-sh",
   "name": "bash"
  }
 },
 "nbformat": 4,
 "nbformat_minor": 5
}
